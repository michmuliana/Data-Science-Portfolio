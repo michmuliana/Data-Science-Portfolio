{
  "nbformat": 4,
  "nbformat_minor": 0,
  "metadata": {
    "colab": {
      "name": "Stock_Portfolio_Optimizer.ipynb",
      "provenance": [],
      "collapsed_sections": [],
      "authorship_tag": "ABX9TyOIQOTsufl/xs4DdQqFqAym"
    },
    "kernelspec": {
      "name": "python3",
      "display_name": "Python 3"
    }
  },
  "cells": [
    {
      "cell_type": "markdown",
      "metadata": {
        "id": "_C4dBgthGHPU"
      },
      "source": [
        "# Stock portfolio optimizer\r\n",
        "\r\n",
        "According to Wikipedia, portfolio optimization is the process of selecting the best portfolio out of the set of all portfolios being considered according to some objective. The objective typically maximizes factors such as expected returns and minizes cost like financial risk.\r\n",
        "\r\n",
        "The program that I will create will optimizes a stock portfolio. It will recommend the number of stocks to buy with the amount of money being invested in the portfolio. The algorithm will choose how many stocks to own for certain companies based on the values of expected annual return, annual volatility, and sharpe ratio. The amount of money remaining after investing in the portfolio will also be shown."
      ]
    },
    {
      "cell_type": "code",
      "metadata": {
        "id": "w6unjvLZF1fS"
      },
      "source": [
        "#Import libraries\r\n",
        "import pandas as pd\r\n",
        "import numpy as np\r\n",
        "import yfinance as yf"
      ],
      "execution_count": null,
      "outputs": []
    },
    {
      "cell_type": "code",
      "metadata": {
        "id": "prG-wNatNar-"
      },
      "source": [
        "tickers_list = ['AAPL', 'WMT', 'IBM', 'MU', 'BA', 'AXP', 'TSLA', 'ETSY',\r\n",
        "                'NVDA', 'PYPL', 'FCX', 'MMM', 'ACN', 'ADBE','GOOG']\r\n"
      ],
      "execution_count": null,
      "outputs": []
    },
    {
      "cell_type": "code",
      "metadata": {
        "id": "w1PqSF-pOamE"
      },
      "source": [
        "df = yf.download(tickers_list,'2015-1-1')['Adj Close']"
      ],
      "execution_count": null,
      "outputs": []
    },
    {
      "cell_type": "code",
      "metadata": {
        "id": "WCsimcCVObMb",
        "colab": {
          "base_uri": "https://localhost:8080/",
          "height": 640
        },
        "outputId": "d545c0d3-724d-4265-f873-566a9e8143b4"
      },
      "source": [
        "df"
      ],
      "execution_count": null,
      "outputs": [
        {
          "output_type": "execute_result",
          "data": {
            "text/html": [
              "<div>\n",
              "<style scoped>\n",
              "    .dataframe tbody tr th:only-of-type {\n",
              "        vertical-align: middle;\n",
              "    }\n",
              "\n",
              "    .dataframe tbody tr th {\n",
              "        vertical-align: top;\n",
              "    }\n",
              "\n",
              "    .dataframe thead th {\n",
              "        text-align: right;\n",
              "    }\n",
              "</style>\n",
              "<table border=\"1\" class=\"dataframe\">\n",
              "  <thead>\n",
              "    <tr style=\"text-align: right;\">\n",
              "      <th></th>\n",
              "      <th>AAPL</th>\n",
              "      <th>ACN</th>\n",
              "      <th>ADBE</th>\n",
              "      <th>AXP</th>\n",
              "      <th>BA</th>\n",
              "      <th>ETSY</th>\n",
              "      <th>FCX</th>\n",
              "      <th>GOOG</th>\n",
              "      <th>IBM</th>\n",
              "      <th>MMM</th>\n",
              "      <th>MU</th>\n",
              "      <th>NVDA</th>\n",
              "      <th>PYPL</th>\n",
              "      <th>TSLA</th>\n",
              "      <th>WMT</th>\n",
              "    </tr>\n",
              "    <tr>\n",
              "      <th>Date</th>\n",
              "      <th></th>\n",
              "      <th></th>\n",
              "      <th></th>\n",
              "      <th></th>\n",
              "      <th></th>\n",
              "      <th></th>\n",
              "      <th></th>\n",
              "      <th></th>\n",
              "      <th></th>\n",
              "      <th></th>\n",
              "      <th></th>\n",
              "      <th></th>\n",
              "      <th></th>\n",
              "      <th></th>\n",
              "      <th></th>\n",
              "    </tr>\n",
              "  </thead>\n",
              "  <tbody>\n",
              "    <tr>\n",
              "      <th>2015-01-02</th>\n",
              "      <td>24.861401</td>\n",
              "      <td>79.502106</td>\n",
              "      <td>72.339996</td>\n",
              "      <td>84.234779</td>\n",
              "      <td>113.657227</td>\n",
              "      <td>NaN</td>\n",
              "      <td>22.150909</td>\n",
              "      <td>523.373108</td>\n",
              "      <td>124.574829</td>\n",
              "      <td>137.071991</td>\n",
              "      <td>34.750000</td>\n",
              "      <td>19.374790</td>\n",
              "      <td>NaN</td>\n",
              "      <td>43.862000</td>\n",
              "      <td>74.555740</td>\n",
              "    </tr>\n",
              "    <tr>\n",
              "      <th>2015-01-05</th>\n",
              "      <td>24.161013</td>\n",
              "      <td>78.159752</td>\n",
              "      <td>71.980003</td>\n",
              "      <td>82.007118</td>\n",
              "      <td>112.870056</td>\n",
              "      <td>NaN</td>\n",
              "      <td>20.834080</td>\n",
              "      <td>512.463013</td>\n",
              "      <td>122.614647</td>\n",
              "      <td>133.980652</td>\n",
              "      <td>33.779999</td>\n",
              "      <td>19.047548</td>\n",
              "      <td>NaN</td>\n",
              "      <td>42.018002</td>\n",
              "      <td>74.338768</td>\n",
              "    </tr>\n",
              "    <tr>\n",
              "      <th>2015-01-06</th>\n",
              "      <td>24.163294</td>\n",
              "      <td>77.595978</td>\n",
              "      <td>70.529999</td>\n",
              "      <td>80.259384</td>\n",
              "      <td>111.540627</td>\n",
              "      <td>NaN</td>\n",
              "      <td>21.191505</td>\n",
              "      <td>500.585632</td>\n",
              "      <td>119.970337</td>\n",
              "      <td>132.551971</td>\n",
              "      <td>32.869999</td>\n",
              "      <td>18.470057</td>\n",
              "      <td>NaN</td>\n",
              "      <td>42.256001</td>\n",
              "      <td>74.911591</td>\n",
              "    </tr>\n",
              "    <tr>\n",
              "      <th>2015-01-07</th>\n",
              "      <td>24.502111</td>\n",
              "      <td>79.224663</td>\n",
              "      <td>71.110001</td>\n",
              "      <td>82.012276</td>\n",
              "      <td>113.272369</td>\n",
              "      <td>NaN</td>\n",
              "      <td>21.501902</td>\n",
              "      <td>499.727997</td>\n",
              "      <td>119.186256</td>\n",
              "      <td>133.512802</td>\n",
              "      <td>32.099998</td>\n",
              "      <td>18.421932</td>\n",
              "      <td>NaN</td>\n",
              "      <td>42.189999</td>\n",
              "      <td>76.899170</td>\n",
              "    </tr>\n",
              "    <tr>\n",
              "      <th>2015-01-08</th>\n",
              "      <td>25.443539</td>\n",
              "      <td>80.432770</td>\n",
              "      <td>72.919998</td>\n",
              "      <td>83.174782</td>\n",
              "      <td>115.275284</td>\n",
              "      <td>NaN</td>\n",
              "      <td>21.981598</td>\n",
              "      <td>501.303680</td>\n",
              "      <td>121.776733</td>\n",
              "      <td>136.712753</td>\n",
              "      <td>33.669998</td>\n",
              "      <td>19.114916</td>\n",
              "      <td>NaN</td>\n",
              "      <td>42.124001</td>\n",
              "      <td>78.522209</td>\n",
              "    </tr>\n",
              "    <tr>\n",
              "      <th>...</th>\n",
              "      <td>...</td>\n",
              "      <td>...</td>\n",
              "      <td>...</td>\n",
              "      <td>...</td>\n",
              "      <td>...</td>\n",
              "      <td>...</td>\n",
              "      <td>...</td>\n",
              "      <td>...</td>\n",
              "      <td>...</td>\n",
              "      <td>...</td>\n",
              "      <td>...</td>\n",
              "      <td>...</td>\n",
              "      <td>...</td>\n",
              "      <td>...</td>\n",
              "      <td>...</td>\n",
              "    </tr>\n",
              "    <tr>\n",
              "      <th>2021-02-16</th>\n",
              "      <td>133.190002</td>\n",
              "      <td>257.049988</td>\n",
              "      <td>501.640015</td>\n",
              "      <td>130.679993</td>\n",
              "      <td>217.179993</td>\n",
              "      <td>228.320007</td>\n",
              "      <td>32.900002</td>\n",
              "      <td>2121.899902</td>\n",
              "      <td>120.070000</td>\n",
              "      <td>176.630005</td>\n",
              "      <td>87.739998</td>\n",
              "      <td>613.210022</td>\n",
              "      <td>304.790009</td>\n",
              "      <td>796.219971</td>\n",
              "      <td>145.660004</td>\n",
              "    </tr>\n",
              "    <tr>\n",
              "      <th>2021-02-17</th>\n",
              "      <td>130.839996</td>\n",
              "      <td>258.779999</td>\n",
              "      <td>491.230011</td>\n",
              "      <td>128.559998</td>\n",
              "      <td>215.520004</td>\n",
              "      <td>222.410004</td>\n",
              "      <td>34.150002</td>\n",
              "      <td>2128.310059</td>\n",
              "      <td>119.970001</td>\n",
              "      <td>176.649994</td>\n",
              "      <td>86.050003</td>\n",
              "      <td>596.239990</td>\n",
              "      <td>297.200012</td>\n",
              "      <td>798.150024</td>\n",
              "      <td>147.199997</td>\n",
              "    </tr>\n",
              "    <tr>\n",
              "      <th>2021-02-18</th>\n",
              "      <td>129.710007</td>\n",
              "      <td>257.630005</td>\n",
              "      <td>488.369995</td>\n",
              "      <td>128.490005</td>\n",
              "      <td>208.479996</td>\n",
              "      <td>220.820007</td>\n",
              "      <td>34.139999</td>\n",
              "      <td>2117.199951</td>\n",
              "      <td>120.730003</td>\n",
              "      <td>179.369995</td>\n",
              "      <td>88.540001</td>\n",
              "      <td>593.159973</td>\n",
              "      <td>290.809998</td>\n",
              "      <td>787.380005</td>\n",
              "      <td>137.660004</td>\n",
              "    </tr>\n",
              "    <tr>\n",
              "      <th>2021-02-19</th>\n",
              "      <td>129.869995</td>\n",
              "      <td>254.289993</td>\n",
              "      <td>479.119995</td>\n",
              "      <td>131.710007</td>\n",
              "      <td>217.470001</td>\n",
              "      <td>227.270004</td>\n",
              "      <td>37.490002</td>\n",
              "      <td>2101.139893</td>\n",
              "      <td>118.989998</td>\n",
              "      <td>176.539993</td>\n",
              "      <td>90.959999</td>\n",
              "      <td>597.059998</td>\n",
              "      <td>286.920013</td>\n",
              "      <td>781.299988</td>\n",
              "      <td>138.339996</td>\n",
              "    </tr>\n",
              "    <tr>\n",
              "      <th>2021-02-22</th>\n",
              "      <td>126.000000</td>\n",
              "      <td>252.630005</td>\n",
              "      <td>467.329987</td>\n",
              "      <td>135.949997</td>\n",
              "      <td>212.880005</td>\n",
              "      <td>213.119995</td>\n",
              "      <td>38.080002</td>\n",
              "      <td>2064.879883</td>\n",
              "      <td>120.860001</td>\n",
              "      <td>176.119995</td>\n",
              "      <td>86.279999</td>\n",
              "      <td>574.229980</td>\n",
              "      <td>273.850006</td>\n",
              "      <td>714.500000</td>\n",
              "      <td>137.690002</td>\n",
              "    </tr>\n",
              "  </tbody>\n",
              "</table>\n",
              "<p>1545 rows × 15 columns</p>\n",
              "</div>"
            ],
            "text/plain": [
              "                  AAPL         ACN  ...        TSLA         WMT\n",
              "Date                                ...                        \n",
              "2015-01-02   24.861401   79.502106  ...   43.862000   74.555740\n",
              "2015-01-05   24.161013   78.159752  ...   42.018002   74.338768\n",
              "2015-01-06   24.163294   77.595978  ...   42.256001   74.911591\n",
              "2015-01-07   24.502111   79.224663  ...   42.189999   76.899170\n",
              "2015-01-08   25.443539   80.432770  ...   42.124001   78.522209\n",
              "...                ...         ...  ...         ...         ...\n",
              "2021-02-16  133.190002  257.049988  ...  796.219971  145.660004\n",
              "2021-02-17  130.839996  258.779999  ...  798.150024  147.199997\n",
              "2021-02-18  129.710007  257.630005  ...  787.380005  137.660004\n",
              "2021-02-19  129.869995  254.289993  ...  781.299988  138.339996\n",
              "2021-02-22  126.000000  252.630005  ...  714.500000  137.690002\n",
              "\n",
              "[1545 rows x 15 columns]"
            ]
          },
          "metadata": {
            "tags": []
          },
          "execution_count": 80
        }
      ]
    },
    {
      "cell_type": "code",
      "metadata": {
        "id": "EdYzXNSsPurr"
      },
      "source": [
        "#Get the assets /tickers\r\n",
        "assets = df.columns"
      ],
      "execution_count": null,
      "outputs": []
    },
    {
      "cell_type": "code",
      "metadata": {
        "id": "sKqNbL4wSSpN"
      },
      "source": [
        "#Optimize the portfolio\r\n",
        "from pypfopt.efficient_frontier import EfficientFrontier\r\n",
        "from pypfopt import risk_models\r\n",
        "from pypfopt import expected_returns"
      ],
      "execution_count": null,
      "outputs": []
    },
    {
      "cell_type": "code",
      "metadata": {
        "id": "EZV8FGrHSkM7"
      },
      "source": [
        "#Calculate the expected annualized returns and the annualized sample covariance matrix of the daily asset returns\r\n",
        "mu = expected_returns.mean_historical_return(df) #Expected returns\r\n",
        "S = risk_models.sample_cov(df) #Sample covariance matrix"
      ],
      "execution_count": null,
      "outputs": []
    },
    {
      "cell_type": "code",
      "metadata": {
        "colab": {
          "base_uri": "https://localhost:8080/"
        },
        "id": "zx6h0K_NSz2k",
        "outputId": "e17f9c5c-7a94-42eb-c370-15921cac4583"
      },
      "source": [
        "#Optimize for the maximal Sharpe ratio\r\n",
        "#Sharpe ratio describes how much excess return you receive for the extra volatility you endure for holding a riskier asset\r\n",
        "ef = EfficientFrontier(mu, S) #Create the Efficient Frontier Object\r\n",
        "weights = ef.max_sharpe() #Maximize the sharpe ratio and get the raw weights\r\n",
        "\r\n",
        "cleaned_weights = ef.clean_weights() #Helper method to clean the raw weights, setting any weights whose absolute value are below the cutoff of 0 and rounding the rest(can cause rounding errors) \r\n",
        "print(cleaned_weights) \r\n",
        "\r\n",
        "#Show expected returns, volatility and sharpe ratio\r\n",
        "ef.portfolio_performance(verbose=True)"
      ],
      "execution_count": null,
      "outputs": [
        {
          "output_type": "stream",
          "text": [
            "OrderedDict([('AAPL', 0.0), ('ACN', 0.0), ('ADBE', 0.0), ('AXP', 0.0), ('BA', 0.0), ('ETSY', 0.00919), ('FCX', 0.0), ('GOOG', 0.0), ('IBM', 0.0), ('MMM', 0.0), ('MU', 0.0), ('NVDA', 0.59004), ('PYPL', 0.2282), ('TSLA', 0.17257), ('WMT', 0.0)])\n",
            "Expected annual return: 63.7%\n",
            "Annual volatility: 36.7%\n",
            "Sharpe Ratio: 1.68\n"
          ],
          "name": "stdout"
        },
        {
          "output_type": "execute_result",
          "data": {
            "text/plain": [
              "(0.6370229301167718, 0.3674471069330211, 1.6792156434891834)"
            ]
          },
          "metadata": {
            "tags": []
          },
          "execution_count": 85
        }
      ]
    },
    {
      "cell_type": "markdown",
      "metadata": {
        "id": "CCpT6XKLUp2Z"
      },
      "source": [
        "Sharpe ratio that is greater than 1.0 are considered acceptable to investors."
      ]
    },
    {
      "cell_type": "code",
      "metadata": {
        "colab": {
          "base_uri": "https://localhost:8080/"
        },
        "id": "Xhawk-odU4Q7",
        "outputId": "6e1997ba-a02d-4d45-e94c-cfa5d3ba93ca"
      },
      "source": [
        "#Get the discrete allocation of each share per stock\r\n",
        "from pypfopt.discrete_allocation import DiscreteAllocation, get_latest_prices\r\n",
        "\r\n",
        "#Money in USD that is going to be put in the portfolio\r\n",
        "portfolio_val = 5000\r\n",
        "latest_prices = get_latest_prices(df)\r\n",
        "weights = cleaned_weights\r\n",
        "da = DiscreteAllocation(weights, latest_prices,total_portfolio_value = portfolio_val)\r\n",
        "allocation, leftover = da.lp_portfolio() #Store stock allocation and amount that is remaining\r\n",
        "print('Discrete allocation:', allocation)\r\n",
        "print('Funds Remaining: $', leftover)"
      ],
      "execution_count": null,
      "outputs": [
        {
          "output_type": "stream",
          "text": [
            "Discrete allocation: {'ETSY': 1, 'NVDA': 5, 'PYPL': 4, 'TSLA': 1}\n",
            "Funds Remaining: $ 105.830078125\n"
          ],
          "name": "stdout"
        }
      ]
    },
    {
      "cell_type": "code",
      "metadata": {
        "id": "05GTyeD6VV5n"
      },
      "source": [
        "#Create a function to get the companies name\r\n",
        "def get_company_name(symbol):\r\n",
        "  url = 'http://d.yimg.com/autoc.finance.yahoo.com/autoc?query=' + symbol + '&region=1&lang=en'\r\n",
        "  result = requests.get(url).json()\r\n",
        "  for r in result['ResultSet']['Result']:\r\n",
        "    if r['symbol']==symbol:\r\n",
        "      return r['name']"
      ],
      "execution_count": null,
      "outputs": []
    },
    {
      "cell_type": "code",
      "metadata": {
        "id": "0uRJLByEXSZ2"
      },
      "source": [
        "#Store the company name into a list\r\n",
        "company_name = []\r\n",
        "for symbol in allocation:\r\n",
        "  company_name.append( get_company_name(symbol))"
      ],
      "execution_count": null,
      "outputs": []
    },
    {
      "cell_type": "code",
      "metadata": {
        "id": "umdCqu1GYNgG"
      },
      "source": [
        "#Get the discrete allocation values\r\n",
        "discrete_allocation_list = []\r\n",
        "for symbol in allocation:\r\n",
        "  discrete_allocation_list.append(allocation.get(symbol))"
      ],
      "execution_count": null,
      "outputs": []
    },
    {
      "cell_type": "code",
      "metadata": {
        "id": "sa8DNLb_Yc1L"
      },
      "source": [
        "#Create a dataframe for the portfolio\r\n",
        "portfolio_df = pd.DataFrame(columns = ['Company_name', 'Company_Ticker', 'Discrete_val_' +str(portfolio_val)])"
      ],
      "execution_count": null,
      "outputs": []
    },
    {
      "cell_type": "code",
      "metadata": {
        "id": "xwpRyhW-Zjdf"
      },
      "source": [
        "portfolio_df['Company_name'] = company_name\r\n",
        "portfolio_df['Company_Ticker'] = allocation\r\n",
        "portfolio_df['Discrete_val_'+str(portfolio_val)] = discrete_allocation_list"
      ],
      "execution_count": null,
      "outputs": []
    },
    {
      "cell_type": "code",
      "metadata": {
        "colab": {
          "base_uri": "https://localhost:8080/",
          "height": 173
        },
        "id": "NP6n4LDTZ9SZ",
        "outputId": "e0aa5a23-3f01-491c-f40a-ce71e27ecfb9"
      },
      "source": [
        "#Show the portfolio\r\n",
        "portfolio_df"
      ],
      "execution_count": null,
      "outputs": [
        {
          "output_type": "execute_result",
          "data": {
            "text/html": [
              "<div>\n",
              "<style scoped>\n",
              "    .dataframe tbody tr th:only-of-type {\n",
              "        vertical-align: middle;\n",
              "    }\n",
              "\n",
              "    .dataframe tbody tr th {\n",
              "        vertical-align: top;\n",
              "    }\n",
              "\n",
              "    .dataframe thead th {\n",
              "        text-align: right;\n",
              "    }\n",
              "</style>\n",
              "<table border=\"1\" class=\"dataframe\">\n",
              "  <thead>\n",
              "    <tr style=\"text-align: right;\">\n",
              "      <th></th>\n",
              "      <th>Company_name</th>\n",
              "      <th>Company_Ticker</th>\n",
              "      <th>Discrete_val_5000</th>\n",
              "    </tr>\n",
              "  </thead>\n",
              "  <tbody>\n",
              "    <tr>\n",
              "      <th>0</th>\n",
              "      <td>Etsy, Inc.</td>\n",
              "      <td>ETSY</td>\n",
              "      <td>1</td>\n",
              "    </tr>\n",
              "    <tr>\n",
              "      <th>1</th>\n",
              "      <td>NVIDIA Corporation</td>\n",
              "      <td>NVDA</td>\n",
              "      <td>5</td>\n",
              "    </tr>\n",
              "    <tr>\n",
              "      <th>2</th>\n",
              "      <td>PayPal Holdings, Inc.</td>\n",
              "      <td>PYPL</td>\n",
              "      <td>4</td>\n",
              "    </tr>\n",
              "    <tr>\n",
              "      <th>3</th>\n",
              "      <td>Tesla, Inc.</td>\n",
              "      <td>TSLA</td>\n",
              "      <td>1</td>\n",
              "    </tr>\n",
              "  </tbody>\n",
              "</table>\n",
              "</div>"
            ],
            "text/plain": [
              "            Company_name Company_Ticker  Discrete_val_5000\n",
              "0             Etsy, Inc.           ETSY                  1\n",
              "1     NVIDIA Corporation           NVDA                  5\n",
              "2  PayPal Holdings, Inc.           PYPL                  4\n",
              "3            Tesla, Inc.           TSLA                  1"
            ]
          },
          "metadata": {
            "tags": []
          },
          "execution_count": 93
        }
      ]
    },
    {
      "cell_type": "code",
      "metadata": {
        "id": "MvXmAOieaCya"
      },
      "source": [
        ""
      ],
      "execution_count": null,
      "outputs": []
    }
  ]
}